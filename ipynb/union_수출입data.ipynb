{
 "cells": [
  {
   "cell_type": "code",
   "execution_count": 1,
   "id": "67723213",
   "metadata": {},
   "outputs": [
    {
     "data": {
      "text/html": [
       "<style>.container { width:100% !important; }</style>"
      ],
      "text/plain": [
       "<IPython.core.display.HTML object>"
      ]
     },
     "metadata": {},
     "output_type": "display_data"
    }
   ],
   "source": [
    "import importlib, sys\n",
    "# script 경로 window용\n",
    "sys.path.append(r\"C:\\Users\\bong2\\OneDrive\\Python_Codes\\00_python_scripts\") \n",
    "from glob import glob\n",
    "import pandas as pd\n",
    "import conn_db\n",
    "import helper, trade_cleaner\n",
    "\n",
    "from IPython.core.display import display, HTML\n",
    "display(HTML(\"<style>.container { width:100% !important; }</style>\"))\n",
    "pd.set_option('display.max_columns', 50)\n",
    "pd.set_option('display.max_rows', 100)  "
   ]
  },
  {
   "cell_type": "code",
   "execution_count": 4,
   "id": "f632f2d1",
   "metadata": {},
   "outputs": [],
   "source": [
    "datasets = {'수출입_신성질별' : '신성질별 수출입',\n",
    "            '수출입_품목별': '품목별 수출입',\n",
    "            '수출입_국가별': '국가별전체'}"
   ]
  },
  {
   "cell_type": "code",
   "execution_count": 6,
   "id": "86430fdd",
   "metadata": {},
   "outputs": [],
   "source": [
    "df = pd.DataFrame()\n",
    "for dataset in datasets.keys():\n",
    "    temp = conn_db.import_('수출입_신성질별')\n",
    "    temp['dataset'] = datasets[dataset]\n",
    "    df = df.append(temp, ignore_index=True)"
   ]
  },
  {
   "cell_type": "code",
   "execution_count": 8,
   "id": "f593e770",
   "metadata": {},
   "outputs": [
    {
     "data": {
      "text/plain": [
       "array(['신성질별 수출입', '품목별 수출입', '국가별전체'], dtype=object)"
      ]
     },
     "execution_count": 8,
     "metadata": {},
     "output_type": "execute_result"
    }
   ],
   "source": [
    "df['dataset'].unique()"
   ]
  },
  {
   "cell_type": "code",
   "execution_count": 9,
   "id": "05e7baec",
   "metadata": {},
   "outputs": [
    {
     "data": {
      "text/html": [
       "<div>\n",
       "<style scoped>\n",
       "    .dataframe tbody tr th:only-of-type {\n",
       "        vertical-align: middle;\n",
       "    }\n",
       "\n",
       "    .dataframe tbody tr th {\n",
       "        vertical-align: top;\n",
       "    }\n",
       "\n",
       "    .dataframe thead th {\n",
       "        text-align: right;\n",
       "    }\n",
       "</style>\n",
       "<table border=\"1\" class=\"dataframe\">\n",
       "  <thead>\n",
       "    <tr style=\"text-align: right;\">\n",
       "      <th></th>\n",
       "      <th>대분류</th>\n",
       "      <th>중분류</th>\n",
       "      <th>소분류</th>\n",
       "      <th>세분류</th>\n",
       "      <th>세세분류</th>\n",
       "      <th>설명</th>\n",
       "      <th>날짜</th>\n",
       "      <th>수입중량 (ton)</th>\n",
       "      <th>수입금액 (천$)</th>\n",
       "      <th>수출중량 (ton)</th>\n",
       "      <th>수출금액 (천$)</th>\n",
       "      <th>수입금액 (백만$)</th>\n",
       "      <th>수출금액 (백만$)</th>\n",
       "      <th>무역규모 (백만$)</th>\n",
       "      <th>무역수지 (백만$)</th>\n",
       "      <th>수입금액 (억$)</th>\n",
       "      <th>수출금액 (억$)</th>\n",
       "      <th>무역규모 (억$)</th>\n",
       "      <th>무역수지 (억$)</th>\n",
       "      <th>무역수지 (천$)</th>\n",
       "      <th>무역규모 (천$)</th>\n",
       "      <th>수출ton당 (천$/ton)</th>\n",
       "      <th>수입ton당 (천$/ton)</th>\n",
       "      <th>dataset</th>\n",
       "    </tr>\n",
       "  </thead>\n",
       "  <tbody>\n",
       "    <tr>\n",
       "      <th>0</th>\n",
       "      <td>소비재</td>\n",
       "      <td>간이세율적용분</td>\n",
       "      <td>간이세율적용분</td>\n",
       "      <td>간이세율적용분</td>\n",
       "      <td>간이세율적용분</td>\n",
       "      <td>이사화물</td>\n",
       "      <td>2002-01-01</td>\n",
       "      <td>1153.4</td>\n",
       "      <td>613.0</td>\n",
       "      <td>2010.7</td>\n",
       "      <td>2782.0</td>\n",
       "      <td>0.613</td>\n",
       "      <td>2.782</td>\n",
       "      <td>3.395</td>\n",
       "      <td>2.169</td>\n",
       "      <td>0.00613</td>\n",
       "      <td>0.02782</td>\n",
       "      <td>0.03395</td>\n",
       "      <td>0.02169</td>\n",
       "      <td>2169.0</td>\n",
       "      <td>3395.0</td>\n",
       "      <td>1.383598</td>\n",
       "      <td>0.531472</td>\n",
       "      <td>신성질별 수출입</td>\n",
       "    </tr>\n",
       "    <tr>\n",
       "      <th>1</th>\n",
       "      <td>소비재</td>\n",
       "      <td>간이세율적용분</td>\n",
       "      <td>간이세율적용분</td>\n",
       "      <td>간이세율적용분</td>\n",
       "      <td>간이세율적용분</td>\n",
       "      <td>이사화물</td>\n",
       "      <td>2002-02-01</td>\n",
       "      <td>1301.5</td>\n",
       "      <td>491.0</td>\n",
       "      <td>2332.3</td>\n",
       "      <td>3076.0</td>\n",
       "      <td>0.491</td>\n",
       "      <td>3.076</td>\n",
       "      <td>3.567</td>\n",
       "      <td>2.585</td>\n",
       "      <td>0.00491</td>\n",
       "      <td>0.03076</td>\n",
       "      <td>0.03567</td>\n",
       "      <td>0.02585</td>\n",
       "      <td>2585.0</td>\n",
       "      <td>3567.0</td>\n",
       "      <td>1.318870</td>\n",
       "      <td>0.377257</td>\n",
       "      <td>신성질별 수출입</td>\n",
       "    </tr>\n",
       "    <tr>\n",
       "      <th>2</th>\n",
       "      <td>소비재</td>\n",
       "      <td>간이세율적용분</td>\n",
       "      <td>간이세율적용분</td>\n",
       "      <td>간이세율적용분</td>\n",
       "      <td>간이세율적용분</td>\n",
       "      <td>이사화물</td>\n",
       "      <td>2002-03-01</td>\n",
       "      <td>1800.8</td>\n",
       "      <td>632.0</td>\n",
       "      <td>2256.3</td>\n",
       "      <td>4096.0</td>\n",
       "      <td>0.632</td>\n",
       "      <td>4.096</td>\n",
       "      <td>4.728</td>\n",
       "      <td>3.464</td>\n",
       "      <td>0.00632</td>\n",
       "      <td>0.04096</td>\n",
       "      <td>0.04728</td>\n",
       "      <td>0.03464</td>\n",
       "      <td>3464.0</td>\n",
       "      <td>4728.0</td>\n",
       "      <td>1.815361</td>\n",
       "      <td>0.350955</td>\n",
       "      <td>신성질별 수출입</td>\n",
       "    </tr>\n",
       "  </tbody>\n",
       "</table>\n",
       "</div>"
      ],
      "text/plain": [
       "   대분류      중분류      소분류      세분류     세세분류    설명         날짜  수입중량 (ton)  \\\n",
       "0  소비재  간이세율적용분  간이세율적용분  간이세율적용분  간이세율적용분  이사화물 2002-01-01      1153.4   \n",
       "1  소비재  간이세율적용분  간이세율적용분  간이세율적용분  간이세율적용분  이사화물 2002-02-01      1301.5   \n",
       "2  소비재  간이세율적용분  간이세율적용분  간이세율적용분  간이세율적용분  이사화물 2002-03-01      1800.8   \n",
       "\n",
       "   수입금액 (천$)  수출중량 (ton)  수출금액 (천$)  수입금액 (백만$)  수출금액 (백만$)  무역규모 (백만$)  \\\n",
       "0      613.0      2010.7     2782.0       0.613       2.782       3.395   \n",
       "1      491.0      2332.3     3076.0       0.491       3.076       3.567   \n",
       "2      632.0      2256.3     4096.0       0.632       4.096       4.728   \n",
       "\n",
       "   무역수지 (백만$)  수입금액 (억$)  수출금액 (억$)  무역규모 (억$)  무역수지 (억$)  무역수지 (천$)  \\\n",
       "0       2.169    0.00613    0.02782    0.03395    0.02169     2169.0   \n",
       "1       2.585    0.00491    0.03076    0.03567    0.02585     2585.0   \n",
       "2       3.464    0.00632    0.04096    0.04728    0.03464     3464.0   \n",
       "\n",
       "   무역규모 (천$)  수출ton당 (천$/ton)  수입ton당 (천$/ton)   dataset  \n",
       "0     3395.0         1.383598         0.531472  신성질별 수출입  \n",
       "1     3567.0         1.318870         0.377257  신성질별 수출입  \n",
       "2     4728.0         1.815361         0.350955  신성질별 수출입  "
      ]
     },
     "execution_count": 9,
     "metadata": {},
     "output_type": "execute_result"
    }
   ],
   "source": [
    "df.head(3)"
   ]
  },
  {
   "cell_type": "code",
   "execution_count": 10,
   "id": "01d6a2b8",
   "metadata": {},
   "outputs": [],
   "source": [
    "# 저장\n",
    "conn_db.export_(df,'수출입실적')"
   ]
  },
  {
   "cell_type": "code",
   "execution_count": null,
   "id": "6def1c27",
   "metadata": {},
   "outputs": [],
   "source": []
  }
 ],
 "metadata": {
  "kernelspec": {
   "display_name": "Python 3",
   "language": "python",
   "name": "python3"
  },
  "language_info": {
   "codemirror_mode": {
    "name": "ipython",
    "version": 3
   },
   "file_extension": ".py",
   "mimetype": "text/x-python",
   "name": "python",
   "nbconvert_exporter": "python",
   "pygments_lexer": "ipython3",
   "version": "3.8.8"
  }
 },
 "nbformat": 4,
 "nbformat_minor": 5
}
