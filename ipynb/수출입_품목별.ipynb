{
 "cells": [
  {
   "cell_type": "code",
   "execution_count": 1,
   "id": "dd4b650a",
   "metadata": {},
   "outputs": [
    {
     "data": {
      "text/html": [
       "<style>.container { width:100% !important; }</style>"
      ],
      "text/plain": [
       "<IPython.core.display.HTML object>"
      ]
     },
     "metadata": {},
     "output_type": "display_data"
    }
   ],
   "source": [
    "import importlib, sys\n",
    "# script 경로 window용\n",
    "sys.path.append(r\"C:\\Users\\bong2\\OneDrive\\Python_Codes\\00_python_scripts\") \n",
    "from glob import glob\n",
    "import pandas as pd\n",
    "import conn_db\n",
    "import helper, trade_cleaner\n",
    "\n",
    "from IPython.core.display import display, HTML\n",
    "display(HTML(\"<style>.container { width:100% !important; }</style>\"))\n",
    "pd.set_option('display.max_columns', 50)\n",
    "pd.set_option('display.max_rows', 100)  "
   ]
  },
  {
   "cell_type": "code",
   "execution_count": 26,
   "id": "1770f630",
   "metadata": {},
   "outputs": [],
   "source": [
    "# 공통사항\n",
    "trade_types = ['수출','수입']\n",
    "unit_types = ['백만', '억']\n",
    "unit_dict = {'백만': 1000,\n",
    "              '억': 100000}"
   ]
  },
  {
   "cell_type": "code",
   "execution_count": 2,
   "id": "17f37028",
   "metadata": {
    "tags": []
   },
   "outputs": [
    {
     "name": "stderr",
     "output_type": "stream",
     "text": [
      "C:\\Users\\bong2\\Anaconda3\\lib\\site-packages\\openpyxl\\styles\\stylesheet.py:221: UserWarning: Workbook contains no default style, apply openpyxl's default\n",
      "  warn(\"Workbook contains no default style, apply openpyxl's default\")\n"
     ]
    }
   ],
   "source": [
    "all_files = glob(conn_db.get_path('품목별_수출입_raw') + \"*.xls\")\n",
    "df = pd.concat([pd.read_excel(file, skiprows=4)\n",
    "                for file in all_files], axis=0).drop_duplicates()"
   ]
  },
  {
   "cell_type": "code",
   "execution_count": 3,
   "id": "28f6ae92",
   "metadata": {
    "tags": []
   },
   "outputs": [
    {
     "data": {
      "text/html": [
       "<div>\n",
       "<style scoped>\n",
       "    .dataframe tbody tr th:only-of-type {\n",
       "        vertical-align: middle;\n",
       "    }\n",
       "\n",
       "    .dataframe tbody tr th {\n",
       "        vertical-align: top;\n",
       "    }\n",
       "\n",
       "    .dataframe thead th {\n",
       "        text-align: right;\n",
       "    }\n",
       "</style>\n",
       "<table border=\"1\" class=\"dataframe\">\n",
       "  <thead>\n",
       "    <tr style=\"text-align: right;\">\n",
       "      <th></th>\n",
       "      <th>기간</th>\n",
       "      <th>품목명</th>\n",
       "      <th>품목코드</th>\n",
       "      <th>수출중량</th>\n",
       "      <th>수입중량</th>\n",
       "      <th>수출금액</th>\n",
       "      <th>수입금액</th>\n",
       "      <th>무역수지</th>\n",
       "    </tr>\n",
       "  </thead>\n",
       "  <tbody>\n",
       "    <tr>\n",
       "      <th>0</th>\n",
       "      <td>총계</td>\n",
       "      <td>NaN</td>\n",
       "      <td>NaN</td>\n",
       "      <td>415,797,922.8</td>\n",
       "      <td>1,472,979,282.3</td>\n",
       "      <td>678,994,625</td>\n",
       "      <td>632,531,649</td>\n",
       "      <td>46,462,976</td>\n",
       "    </tr>\n",
       "    <tr>\n",
       "      <th>1</th>\n",
       "      <td>2000.01</td>\n",
       "      <td>살아 있는 동물</td>\n",
       "      <td>1.0</td>\n",
       "      <td>2.0</td>\n",
       "      <td>70.7</td>\n",
       "      <td>93</td>\n",
       "      <td>743</td>\n",
       "      <td>-650</td>\n",
       "    </tr>\n",
       "    <tr>\n",
       "      <th>2</th>\n",
       "      <td>2000.01</td>\n",
       "      <td>육과 식용 설육(屑肉)</td>\n",
       "      <td>2.0</td>\n",
       "      <td>7,814.5</td>\n",
       "      <td>37,348.3</td>\n",
       "      <td>26,679</td>\n",
       "      <td>84,296</td>\n",
       "      <td>-57,617</td>\n",
       "    </tr>\n",
       "  </tbody>\n",
       "</table>\n",
       "</div>"
      ],
      "text/plain": [
       "        기간           품목명  품목코드                    수출중량  \\\n",
       "0       총계           NaN   NaN           415,797,922.8   \n",
       "1  2000.01      살아 있는 동물   1.0                     2.0   \n",
       "2  2000.01  육과 식용 설육(屑肉)   2.0                 7,814.5   \n",
       "\n",
       "                     수입중량                  수출금액                  수입금액  \\\n",
       "0         1,472,979,282.3           678,994,625           632,531,649   \n",
       "1                    70.7                    93                   743   \n",
       "2                37,348.3                26,679                84,296   \n",
       "\n",
       "                   무역수지  \n",
       "0            46,462,976  \n",
       "1                  -650  \n",
       "2               -57,617  "
      ]
     },
     "execution_count": 3,
     "metadata": {},
     "output_type": "execute_result"
    }
   ],
   "source": [
    "df.head(3)"
   ]
  },
  {
   "cell_type": "code",
   "execution_count": 4,
   "id": "17f2d943",
   "metadata": {
    "tags": []
   },
   "outputs": [],
   "source": [
    "filt = df['기간']!='총계'\n",
    "df = df.loc[filt]\n",
    "names = {'기간': '날짜', \n",
    "        '품목명': '대분류',\n",
    "        '수출중량': '수출중량 (ton)',\n",
    "        '수입중량': '수입중량 (ton)',\n",
    "        '수출금액': '수출금액 (천$)',\n",
    "        '수입금액': '수입금액 (천$)',\n",
    "        '무역수지': '무역수지 (천$)'}\n",
    "df = df.rename(columns=names).drop(columns='품목코드')\n",
    "df['날짜'] = pd.to_datetime(df['날짜'])"
   ]
  },
  {
   "cell_type": "code",
   "execution_count": 5,
   "id": "dfc288af",
   "metadata": {},
   "outputs": [],
   "source": [
    "matcher = ['수출', '수입', '무역']\n",
    "all_cols = df.columns.tolist()\n",
    "value_cols = [col for col in all_cols if any(prcnt in col for prcnt in matcher)]\n",
    "\n",
    "for col in value_cols:\n",
    "    df[col] = pd.to_numeric(df[col].str.replace(',', ''))"
   ]
  },
  {
   "cell_type": "code",
   "execution_count": 6,
   "id": "a433604e",
   "metadata": {
    "tags": []
   },
   "outputs": [
    {
     "data": {
      "text/html": [
       "<div>\n",
       "<style scoped>\n",
       "    .dataframe tbody tr th:only-of-type {\n",
       "        vertical-align: middle;\n",
       "    }\n",
       "\n",
       "    .dataframe tbody tr th {\n",
       "        vertical-align: top;\n",
       "    }\n",
       "\n",
       "    .dataframe thead th {\n",
       "        text-align: right;\n",
       "    }\n",
       "</style>\n",
       "<table border=\"1\" class=\"dataframe\">\n",
       "  <thead>\n",
       "    <tr style=\"text-align: right;\">\n",
       "      <th></th>\n",
       "      <th>날짜</th>\n",
       "      <th>대분류</th>\n",
       "      <th>수출중량 (ton)</th>\n",
       "      <th>수입중량 (ton)</th>\n",
       "      <th>수출금액 (천$)</th>\n",
       "      <th>수입금액 (천$)</th>\n",
       "      <th>무역수지 (천$)</th>\n",
       "    </tr>\n",
       "  </thead>\n",
       "  <tbody>\n",
       "    <tr>\n",
       "      <th>1</th>\n",
       "      <td>2000-01-01</td>\n",
       "      <td>살아 있는 동물</td>\n",
       "      <td>2.0</td>\n",
       "      <td>70.7</td>\n",
       "      <td>93</td>\n",
       "      <td>743</td>\n",
       "      <td>-650</td>\n",
       "    </tr>\n",
       "    <tr>\n",
       "      <th>2</th>\n",
       "      <td>2000-01-01</td>\n",
       "      <td>육과 식용 설육(屑肉)</td>\n",
       "      <td>7814.5</td>\n",
       "      <td>37348.3</td>\n",
       "      <td>26679</td>\n",
       "      <td>84296</td>\n",
       "      <td>-57617</td>\n",
       "    </tr>\n",
       "    <tr>\n",
       "      <th>3</th>\n",
       "      <td>2000-01-01</td>\n",
       "      <td>어류ㆍ갑각류ㆍ연체동물과 그 밖의 수생(水生) 무척추동물</td>\n",
       "      <td>31743.9</td>\n",
       "      <td>62955.3</td>\n",
       "      <td>91931</td>\n",
       "      <td>121804</td>\n",
       "      <td>-29873</td>\n",
       "    </tr>\n",
       "  </tbody>\n",
       "</table>\n",
       "</div>"
      ],
      "text/plain": [
       "          날짜                             대분류  수출중량 (ton)  수입중량 (ton)  \\\n",
       "1 2000-01-01                        살아 있는 동물         2.0        70.7   \n",
       "2 2000-01-01                    육과 식용 설육(屑肉)      7814.5     37348.3   \n",
       "3 2000-01-01  어류ㆍ갑각류ㆍ연체동물과 그 밖의 수생(水生) 무척추동물     31743.9     62955.3   \n",
       "\n",
       "   수출금액 (천$)  수입금액 (천$)  무역수지 (천$)  \n",
       "1         93        743       -650  \n",
       "2      26679      84296     -57617  \n",
       "3      91931     121804     -29873  "
      ]
     },
     "execution_count": 6,
     "metadata": {},
     "output_type": "execute_result"
    }
   ],
   "source": [
    "df.head(3)"
   ]
  },
  {
   "cell_type": "code",
   "execution_count": 7,
   "id": "12ca5bdf",
   "metadata": {},
   "outputs": [],
   "source": [
    "df = trade_cleaner.add_units(df)"
   ]
  },
  {
   "cell_type": "code",
   "execution_count": 8,
   "id": "3af6ed18",
   "metadata": {
    "tags": []
   },
   "outputs": [
    {
     "data": {
      "text/html": [
       "<div>\n",
       "<style scoped>\n",
       "    .dataframe tbody tr th:only-of-type {\n",
       "        vertical-align: middle;\n",
       "    }\n",
       "\n",
       "    .dataframe tbody tr th {\n",
       "        vertical-align: top;\n",
       "    }\n",
       "\n",
       "    .dataframe thead th {\n",
       "        text-align: right;\n",
       "    }\n",
       "</style>\n",
       "<table border=\"1\" class=\"dataframe\">\n",
       "  <thead>\n",
       "    <tr style=\"text-align: right;\">\n",
       "      <th></th>\n",
       "      <th>날짜</th>\n",
       "      <th>대분류</th>\n",
       "      <th>수출중량 (ton)</th>\n",
       "      <th>수입중량 (ton)</th>\n",
       "      <th>수출금액 (천$)</th>\n",
       "      <th>수입금액 (천$)</th>\n",
       "      <th>무역수지 (천$)</th>\n",
       "      <th>수출금액 (백만$)</th>\n",
       "      <th>수입금액 (백만$)</th>\n",
       "      <th>무역규모 (백만$)</th>\n",
       "      <th>무역수지 (백만$)</th>\n",
       "      <th>수출금액 (억$)</th>\n",
       "      <th>수입금액 (억$)</th>\n",
       "      <th>무역규모 (억$)</th>\n",
       "      <th>무역수지 (억$)</th>\n",
       "      <th>무역규모 (천$)</th>\n",
       "      <th>수출ton당 (천$/ton)</th>\n",
       "      <th>수입ton당 (천$/ton)</th>\n",
       "    </tr>\n",
       "  </thead>\n",
       "  <tbody>\n",
       "    <tr>\n",
       "      <th>1</th>\n",
       "      <td>2000-01-01</td>\n",
       "      <td>살아 있는 동물</td>\n",
       "      <td>2.0</td>\n",
       "      <td>70.7</td>\n",
       "      <td>93</td>\n",
       "      <td>743</td>\n",
       "      <td>-650</td>\n",
       "      <td>0.093</td>\n",
       "      <td>0.743</td>\n",
       "      <td>0.836</td>\n",
       "      <td>-0.650</td>\n",
       "      <td>0.00093</td>\n",
       "      <td>0.00743</td>\n",
       "      <td>0.00836</td>\n",
       "      <td>-0.00650</td>\n",
       "      <td>836</td>\n",
       "      <td>46.500000</td>\n",
       "      <td>10.509194</td>\n",
       "    </tr>\n",
       "    <tr>\n",
       "      <th>2</th>\n",
       "      <td>2000-01-01</td>\n",
       "      <td>육과 식용 설육(屑肉)</td>\n",
       "      <td>7814.5</td>\n",
       "      <td>37348.3</td>\n",
       "      <td>26679</td>\n",
       "      <td>84296</td>\n",
       "      <td>-57617</td>\n",
       "      <td>26.679</td>\n",
       "      <td>84.296</td>\n",
       "      <td>110.975</td>\n",
       "      <td>-57.617</td>\n",
       "      <td>0.26679</td>\n",
       "      <td>0.84296</td>\n",
       "      <td>1.10975</td>\n",
       "      <td>-0.57617</td>\n",
       "      <td>110975</td>\n",
       "      <td>3.414038</td>\n",
       "      <td>2.257024</td>\n",
       "    </tr>\n",
       "    <tr>\n",
       "      <th>3</th>\n",
       "      <td>2000-01-01</td>\n",
       "      <td>어류ㆍ갑각류ㆍ연체동물과 그 밖의 수생(水生) 무척추동물</td>\n",
       "      <td>31743.9</td>\n",
       "      <td>62955.3</td>\n",
       "      <td>91931</td>\n",
       "      <td>121804</td>\n",
       "      <td>-29873</td>\n",
       "      <td>91.931</td>\n",
       "      <td>121.804</td>\n",
       "      <td>213.735</td>\n",
       "      <td>-29.873</td>\n",
       "      <td>0.91931</td>\n",
       "      <td>1.21804</td>\n",
       "      <td>2.13735</td>\n",
       "      <td>-0.29873</td>\n",
       "      <td>213735</td>\n",
       "      <td>2.896021</td>\n",
       "      <td>1.934770</td>\n",
       "    </tr>\n",
       "  </tbody>\n",
       "</table>\n",
       "</div>"
      ],
      "text/plain": [
       "          날짜                             대분류  수출중량 (ton)  수입중량 (ton)  \\\n",
       "1 2000-01-01                        살아 있는 동물         2.0        70.7   \n",
       "2 2000-01-01                    육과 식용 설육(屑肉)      7814.5     37348.3   \n",
       "3 2000-01-01  어류ㆍ갑각류ㆍ연체동물과 그 밖의 수생(水生) 무척추동물     31743.9     62955.3   \n",
       "\n",
       "   수출금액 (천$)  수입금액 (천$)  무역수지 (천$)  수출금액 (백만$)  수입금액 (백만$)  무역규모 (백만$)  \\\n",
       "1         93        743       -650       0.093       0.743       0.836   \n",
       "2      26679      84296     -57617      26.679      84.296     110.975   \n",
       "3      91931     121804     -29873      91.931     121.804     213.735   \n",
       "\n",
       "   무역수지 (백만$)  수출금액 (억$)  수입금액 (억$)  무역규모 (억$)  무역수지 (억$)  무역규모 (천$)  \\\n",
       "1      -0.650    0.00093    0.00743    0.00836   -0.00650        836   \n",
       "2     -57.617    0.26679    0.84296    1.10975   -0.57617     110975   \n",
       "3     -29.873    0.91931    1.21804    2.13735   -0.29873     213735   \n",
       "\n",
       "   수출ton당 (천$/ton)  수입ton당 (천$/ton)  \n",
       "1        46.500000        10.509194  \n",
       "2         3.414038         2.257024  \n",
       "3         2.896021         1.934770  "
      ]
     },
     "execution_count": 8,
     "metadata": {},
     "output_type": "execute_result"
    }
   ],
   "source": [
    "df.head(3)"
   ]
  },
  {
   "cell_type": "code",
   "execution_count": 22,
   "id": "66e24bbd",
   "metadata": {},
   "outputs": [
    {
     "data": {
      "text/plain": [
       "['날짜',\n",
       " '대분류',\n",
       " '수출중량 (ton)',\n",
       " '수입중량 (ton)',\n",
       " '수출금액 (천$)',\n",
       " '수입금액 (천$)',\n",
       " '무역수지 (천$)',\n",
       " '수출금액 (백만$)',\n",
       " '수입금액 (백만$)',\n",
       " '무역규모 (백만$)',\n",
       " '무역수지 (백만$)',\n",
       " '수출금액 (억$)',\n",
       " '수입금액 (억$)',\n",
       " '무역규모 (억$)',\n",
       " '무역수지 (억$)',\n",
       " '무역규모 (천$)',\n",
       " '수출ton당 (천$/ton)',\n",
       " '수입ton당 (천$/ton)']"
      ]
     },
     "execution_count": 22,
     "metadata": {},
     "output_type": "execute_result"
    }
   ],
   "source": [
    "df.columns.tolist()"
   ]
  },
  {
   "cell_type": "code",
   "execution_count": 9,
   "id": "698670ac",
   "metadata": {},
   "outputs": [],
   "source": [
    "cols_long = ['날짜','대분류','수출중량 (ton)','수입중량 (ton)',\n",
    "             '수출금액 (천$)','수입금액 (천$)', '무역규모 (천$)','무역수지 (천$)',\n",
    "             '수출금액 (백만$)','수입금액 (백만$)','무역규모 (백만$)','무역수지 (백만$)',\n",
    "             '수출금액 (억$)', '수입금액 (억$)', '무역규모 (억$)', '무역수지 (억$)',\n",
    "             '수출ton당 (천$/ton)', '수입ton당 (천$/ton)']\n",
    "\n",
    "cols_short = ['날짜','대분류','수출중량 (ton)','수입중량 (ton)',\n",
    "             '수출금액 (천$)','수입금액 (천$)', '무역규모 (천$)','무역수지 (천$)',\n",
    "             '수출ton당 (천$/ton)', '수입ton당 (천$/ton)']"
   ]
  },
  {
   "cell_type": "code",
   "execution_count": 10,
   "id": "c94bf4a2",
   "metadata": {
    "collapsed": true,
    "jupyter": {
     "outputs_hidden": true
    },
    "tags": []
   },
   "outputs": [
    {
     "name": "stderr",
     "output_type": "stream",
     "text": [
      "C:\\Users\\bong2\\OneDrive\\Python_Codes\\00_python_scripts\\conn_db.py:30: SettingWithCopyWarning: \n",
      "A value is trying to be set on a copy of a slice from a DataFrame\n",
      "\n",
      "See the caveats in the documentation: https://pandas.pydata.org/pandas-docs/stable/user_guide/indexing.html#returning-a-view-versus-a-copy\n",
      "  df.dropna(axis=1, how='all', inplace=True)\n",
      "C:\\Users\\bong2\\Anaconda3\\lib\\site-packages\\pygsheets\\worksheet.py:1366: SettingWithCopyWarning: \n",
      "A value is trying to be set on a copy of a slice from a DataFrame.\n",
      "Try using .loc[row_indexer,col_indexer] = value instead\n",
      "\n",
      "See the caveats in the documentation: https://pandas.pydata.org/pandas-docs/stable/user_guide/indexing.html#returning-a-view-versus-a-copy\n",
      "  df[col] = df[col].astype('unicode').replace('<NA>', nan)\n"
     ]
    }
   ],
   "source": [
    "# 저장\n",
    "conn_db.export_(df[cols_long], '수출입_품목별')\n",
    "conn_db.to_(df[cols_short], 'DB_수출입_품목별', 'import')"
   ]
  },
  {
   "cell_type": "code",
   "execution_count": null,
   "id": "fed5f0b7",
   "metadata": {},
   "outputs": [],
   "source": []
  }
 ],
 "metadata": {
  "kernelspec": {
   "display_name": "Python 3",
   "language": "python",
   "name": "python3"
  },
  "language_info": {
   "codemirror_mode": {
    "name": "ipython",
    "version": 3
   },
   "file_extension": ".py",
   "mimetype": "text/x-python",
   "name": "python",
   "nbconvert_exporter": "python",
   "pygments_lexer": "ipython3",
   "version": "3.8.8"
  }
 },
 "nbformat": 4,
 "nbformat_minor": 5
}
