{
 "cells": [
  {
   "cell_type": "code",
   "execution_count": 1,
   "id": "04405227",
   "metadata": {},
   "outputs": [
    {
     "data": {
      "text/html": [
       "<style>.container { width:100% !important; }</style>"
      ],
      "text/plain": [
       "<IPython.core.display.HTML object>"
      ]
     },
     "metadata": {},
     "output_type": "display_data"
    }
   ],
   "source": [
    "import importlib, sys\n",
    "# script 경로 window용\n",
    "sys.path.append(r\"C:\\Users\\bong2\\OneDrive\\Python_Codes\\00_python_scripts\") \n",
    "from glob import glob\n",
    "import pandas as pd\n",
    "import conn_db\n",
    "import helper, trade_cleaner\n",
    "\n",
    "from IPython.core.display import display, HTML\n",
    "display(HTML(\"<style>.container { width:100% !important; }</style>\"))\n",
    "pd.set_option('display.max_columns', 50)\n",
    "pd.set_option('display.max_rows', 100)  "
   ]
  },
  {
   "cell_type": "code",
   "execution_count": 2,
   "id": "3fd7f4d5",
   "metadata": {
    "tags": []
   },
   "outputs": [
    {
     "name": "stderr",
     "output_type": "stream",
     "text": [
      "C:\\Users\\bong2\\Anaconda3\\lib\\site-packages\\openpyxl\\styles\\stylesheet.py:221: UserWarning: Workbook contains no default style, apply openpyxl's default\n",
      "  warn(\"Workbook contains no default style, apply openpyxl's default\")\n"
     ]
    }
   ],
   "source": [
    "all_files = glob(conn_db.get_path('신성질별_수출입_raw') + \"*.xls\")\n",
    "df = pd.concat([pd.read_excel(file, skiprows=4)\n",
    "               for file in all_files], axis=0).drop_duplicates()"
   ]
  },
  {
   "cell_type": "code",
   "execution_count": 3,
   "id": "8079fa62",
   "metadata": {},
   "outputs": [
    {
     "data": {
      "text/html": [
       "<div>\n",
       "<style scoped>\n",
       "    .dataframe tbody tr th:only-of-type {\n",
       "        vertical-align: middle;\n",
       "    }\n",
       "\n",
       "    .dataframe tbody tr th {\n",
       "        vertical-align: top;\n",
       "    }\n",
       "\n",
       "    .dataframe thead th {\n",
       "        text-align: right;\n",
       "    }\n",
       "</style>\n",
       "<table border=\"1\" class=\"dataframe\">\n",
       "  <thead>\n",
       "    <tr style=\"text-align: right;\">\n",
       "      <th></th>\n",
       "      <th>기간</th>\n",
       "      <th>수출입구분</th>\n",
       "      <th>성질명</th>\n",
       "      <th>중량</th>\n",
       "      <th>금액</th>\n",
       "    </tr>\n",
       "  </thead>\n",
       "  <tbody>\n",
       "    <tr>\n",
       "      <th>0</th>\n",
       "      <td>총계</td>\n",
       "      <td>NaN</td>\n",
       "      <td>NaN</td>\n",
       "      <td>372,738,213.9</td>\n",
       "      <td>152,103,189</td>\n",
       "    </tr>\n",
       "    <tr>\n",
       "      <th>1</th>\n",
       "      <td>2002.01</td>\n",
       "      <td>수입</td>\n",
       "      <td>1.소비재</td>\n",
       "      <td>1,219,724.9</td>\n",
       "      <td>1,345,730</td>\n",
       "    </tr>\n",
       "    <tr>\n",
       "      <th>2</th>\n",
       "      <td>2002.01</td>\n",
       "      <td>수입</td>\n",
       "      <td>가.직접소비재</td>\n",
       "      <td>1,136,886.8</td>\n",
       "      <td>669,369</td>\n",
       "    </tr>\n",
       "  </tbody>\n",
       "</table>\n",
       "</div>"
      ],
      "text/plain": [
       "        기간 수출입구분      성질명                      중량                    금액\n",
       "0       총계   NaN      NaN           372,738,213.9           152,103,189\n",
       "1  2002.01    수입    1.소비재             1,219,724.9             1,345,730\n",
       "2  2002.01    수입  가.직접소비재             1,136,886.8               669,369"
      ]
     },
     "execution_count": 3,
     "metadata": {},
     "output_type": "execute_result"
    }
   ],
   "source": [
    "df.head(3)"
   ]
  },
  {
   "cell_type": "code",
   "execution_count": 4,
   "id": "ad9f4683",
   "metadata": {},
   "outputs": [],
   "source": [
    "filt1 = df['성질명'].str.startswith('(')\n",
    "filt2 = df['성질명'].str.endswith(')')\n",
    "filt3 = df['기간'] != '총계'\n",
    "filt = filt1 & filt2 & filt3\n",
    "df = df.loc[filt].reset_index(drop=True)"
   ]
  },
  {
   "cell_type": "code",
   "execution_count": 5,
   "id": "fef37232",
   "metadata": {},
   "outputs": [
    {
     "data": {
      "text/html": [
       "<div>\n",
       "<style scoped>\n",
       "    .dataframe tbody tr th:only-of-type {\n",
       "        vertical-align: middle;\n",
       "    }\n",
       "\n",
       "    .dataframe tbody tr th {\n",
       "        vertical-align: top;\n",
       "    }\n",
       "\n",
       "    .dataframe thead th {\n",
       "        text-align: right;\n",
       "    }\n",
       "</style>\n",
       "<table border=\"1\" class=\"dataframe\">\n",
       "  <thead>\n",
       "    <tr style=\"text-align: right;\">\n",
       "      <th></th>\n",
       "      <th>기간</th>\n",
       "      <th>수출입구분</th>\n",
       "      <th>성질명</th>\n",
       "      <th>중량</th>\n",
       "      <th>금액</th>\n",
       "    </tr>\n",
       "  </thead>\n",
       "  <tbody>\n",
       "    <tr>\n",
       "      <th>0</th>\n",
       "      <td>2002.01</td>\n",
       "      <td>수입</td>\n",
       "      <td>(쌀)</td>\n",
       "      <td>22,538.8</td>\n",
       "      <td>5,269</td>\n",
       "    </tr>\n",
       "    <tr>\n",
       "      <th>1</th>\n",
       "      <td>2002.01</td>\n",
       "      <td>수입</td>\n",
       "      <td>(밀)</td>\n",
       "      <td>166,087.6</td>\n",
       "      <td>27,796</td>\n",
       "    </tr>\n",
       "    <tr>\n",
       "      <th>2</th>\n",
       "      <td>2002.01</td>\n",
       "      <td>수입</td>\n",
       "      <td>(보리)</td>\n",
       "      <td>28,220.5</td>\n",
       "      <td>5,075</td>\n",
       "    </tr>\n",
       "    <tr>\n",
       "      <th>3</th>\n",
       "      <td>2002.01</td>\n",
       "      <td>수입</td>\n",
       "      <td>(옥수수)</td>\n",
       "      <td>164,693.1</td>\n",
       "      <td>18,983</td>\n",
       "    </tr>\n",
       "    <tr>\n",
       "      <th>4</th>\n",
       "      <td>2002.01</td>\n",
       "      <td>수입</td>\n",
       "      <td>(대두)</td>\n",
       "      <td>95,152.1</td>\n",
       "      <td>18,843</td>\n",
       "    </tr>\n",
       "  </tbody>\n",
       "</table>\n",
       "</div>"
      ],
      "text/plain": [
       "        기간 수출입구분    성질명                      중량                    금액\n",
       "0  2002.01    수입    (쌀)                22,538.8                 5,269\n",
       "1  2002.01    수입    (밀)               166,087.6                27,796\n",
       "2  2002.01    수입   (보리)                28,220.5                 5,075\n",
       "3  2002.01    수입  (옥수수)               164,693.1                18,983\n",
       "4  2002.01    수입   (대두)                95,152.1                18,843"
      ]
     },
     "execution_count": 5,
     "metadata": {},
     "output_type": "execute_result"
    }
   ],
   "source": [
    "df.head()"
   ]
  },
  {
   "cell_type": "code",
   "execution_count": 6,
   "id": "ee2a5d55",
   "metadata": {},
   "outputs": [],
   "source": [
    "df = helper.drop_column(df, 'Unnamed')"
   ]
  },
  {
   "cell_type": "code",
   "execution_count": 7,
   "id": "0ab25a28",
   "metadata": {},
   "outputs": [],
   "source": [
    "df['중량'] = pd.to_numeric(df['중량'].str.replace(',', ''))\n",
    "df['금액'] = pd.to_numeric(df['금액'].str.replace(',', ''))\n",
    "df.rename(columns={'기간': '날짜'}, inplace=True)\n",
    "df['날짜'] = pd.to_datetime(df['날짜'])"
   ]
  },
  {
   "cell_type": "code",
   "execution_count": 8,
   "id": "28228d4a",
   "metadata": {
    "tags": []
   },
   "outputs": [],
   "source": [
    "trade_types = ['수출','수입']\n",
    "result_df = pd.DataFrame()\n",
    "for trade_type in trade_types:\n",
    "    temp = df.loc[df['수출입구분'] == trade_type].copy()\n",
    "    temp.rename(columns={'중량': trade_type+'중량 (ton)',\n",
    "                         '금액': trade_type+'금액 (천$)'}, inplace=True)\n",
    "    temp.drop(columns='수출입구분', inplace=True)\n",
    "    result_df = result_df.append(temp)\n",
    "\n",
    "result_df.reset_index(drop=True, inplace=True)\n",
    "result_df = result_df.groupby(['날짜', '성질명']).agg(sum).reset_index()\n",
    "result_df['성질명'] = result_df['성질명'].str[1:-1].str.strip()"
   ]
  },
  {
   "cell_type": "code",
   "execution_count": 9,
   "id": "56adcd3d",
   "metadata": {},
   "outputs": [
    {
     "data": {
      "text/html": [
       "<div>\n",
       "<style scoped>\n",
       "    .dataframe tbody tr th:only-of-type {\n",
       "        vertical-align: middle;\n",
       "    }\n",
       "\n",
       "    .dataframe tbody tr th {\n",
       "        vertical-align: top;\n",
       "    }\n",
       "\n",
       "    .dataframe thead th {\n",
       "        text-align: right;\n",
       "    }\n",
       "</style>\n",
       "<table border=\"1\" class=\"dataframe\">\n",
       "  <thead>\n",
       "    <tr style=\"text-align: right;\">\n",
       "      <th></th>\n",
       "      <th>날짜</th>\n",
       "      <th>성질명</th>\n",
       "      <th>수출중량 (ton)</th>\n",
       "      <th>수출금액 (천$)</th>\n",
       "      <th>수입중량 (ton)</th>\n",
       "      <th>수입금액 (천$)</th>\n",
       "    </tr>\n",
       "  </thead>\n",
       "  <tbody>\n",
       "    <tr>\n",
       "      <th>0</th>\n",
       "      <td>2002-01-01</td>\n",
       "      <td>CRT TV</td>\n",
       "      <td>21.3</td>\n",
       "      <td>452.0</td>\n",
       "      <td>5.3</td>\n",
       "      <td>767.0</td>\n",
       "    </tr>\n",
       "    <tr>\n",
       "      <th>1</th>\n",
       "      <td>2002-01-01</td>\n",
       "      <td>LCD TV</td>\n",
       "      <td>1334.8</td>\n",
       "      <td>10312.0</td>\n",
       "      <td>2.5</td>\n",
       "      <td>58.0</td>\n",
       "    </tr>\n",
       "    <tr>\n",
       "      <th>2</th>\n",
       "      <td>2002-01-01</td>\n",
       "      <td>PDP TV</td>\n",
       "      <td>431.1</td>\n",
       "      <td>5487.0</td>\n",
       "      <td>4.9</td>\n",
       "      <td>203.0</td>\n",
       "    </tr>\n",
       "  </tbody>\n",
       "</table>\n",
       "</div>"
      ],
      "text/plain": [
       "          날짜     성질명  수출중량 (ton)  수출금액 (천$)  수입중량 (ton)  수입금액 (천$)\n",
       "0 2002-01-01  CRT TV        21.3      452.0         5.3      767.0\n",
       "1 2002-01-01  LCD TV      1334.8    10312.0         2.5       58.0\n",
       "2 2002-01-01  PDP TV       431.1     5487.0         4.9      203.0"
      ]
     },
     "execution_count": 9,
     "metadata": {},
     "output_type": "execute_result"
    }
   ],
   "source": [
    "result_df.head(3)"
   ]
  },
  {
   "cell_type": "code",
   "execution_count": 10,
   "id": "5fd90d18",
   "metadata": {},
   "outputs": [],
   "source": [
    "# 맵핑\n",
    "map_df = conn_db.from_('Master_수출입품목', '신성질별_short')\n",
    "\n",
    "df = map_df.merge(result_df, left_on='세세분류명', right_on='성질명',\n",
    "                  how='inner').drop(columns='성질명')"
   ]
  },
  {
   "cell_type": "code",
   "execution_count": 11,
   "id": "168973d7",
   "metadata": {},
   "outputs": [
    {
     "data": {
      "text/html": [
       "<div>\n",
       "<style scoped>\n",
       "    .dataframe tbody tr th:only-of-type {\n",
       "        vertical-align: middle;\n",
       "    }\n",
       "\n",
       "    .dataframe tbody tr th {\n",
       "        vertical-align: top;\n",
       "    }\n",
       "\n",
       "    .dataframe thead th {\n",
       "        text-align: right;\n",
       "    }\n",
       "</style>\n",
       "<table border=\"1\" class=\"dataframe\">\n",
       "  <thead>\n",
       "    <tr style=\"text-align: right;\">\n",
       "      <th></th>\n",
       "      <th>대분류명</th>\n",
       "      <th>중분류명</th>\n",
       "      <th>소분류명</th>\n",
       "      <th>세분류명</th>\n",
       "      <th>세세분류명</th>\n",
       "      <th>설명</th>\n",
       "      <th>날짜</th>\n",
       "      <th>수출중량 (ton)</th>\n",
       "      <th>수출금액 (천$)</th>\n",
       "      <th>수입중량 (ton)</th>\n",
       "      <th>수입금액 (천$)</th>\n",
       "    </tr>\n",
       "  </thead>\n",
       "  <tbody>\n",
       "    <tr>\n",
       "      <th>0</th>\n",
       "      <td>소비재</td>\n",
       "      <td>간이세율적용분</td>\n",
       "      <td>간이세율적용분</td>\n",
       "      <td>간이세율적용분</td>\n",
       "      <td>간이세율적용분</td>\n",
       "      <td>이사화물</td>\n",
       "      <td>2002-01-01</td>\n",
       "      <td>2010.7</td>\n",
       "      <td>2782.0</td>\n",
       "      <td>1153.4</td>\n",
       "      <td>613.0</td>\n",
       "    </tr>\n",
       "    <tr>\n",
       "      <th>1</th>\n",
       "      <td>소비재</td>\n",
       "      <td>간이세율적용분</td>\n",
       "      <td>간이세율적용분</td>\n",
       "      <td>간이세율적용분</td>\n",
       "      <td>간이세율적용분</td>\n",
       "      <td>이사화물</td>\n",
       "      <td>2002-02-01</td>\n",
       "      <td>2332.3</td>\n",
       "      <td>3076.0</td>\n",
       "      <td>1301.5</td>\n",
       "      <td>491.0</td>\n",
       "    </tr>\n",
       "    <tr>\n",
       "      <th>2</th>\n",
       "      <td>소비재</td>\n",
       "      <td>간이세율적용분</td>\n",
       "      <td>간이세율적용분</td>\n",
       "      <td>간이세율적용분</td>\n",
       "      <td>간이세율적용분</td>\n",
       "      <td>이사화물</td>\n",
       "      <td>2002-03-01</td>\n",
       "      <td>2256.3</td>\n",
       "      <td>4096.0</td>\n",
       "      <td>1800.8</td>\n",
       "      <td>632.0</td>\n",
       "    </tr>\n",
       "  </tbody>\n",
       "</table>\n",
       "</div>"
      ],
      "text/plain": [
       "  대분류명     중분류명     소분류명     세분류명    세세분류명    설명         날짜  수출중량 (ton)  \\\n",
       "0  소비재  간이세율적용분  간이세율적용분  간이세율적용분  간이세율적용분  이사화물 2002-01-01      2010.7   \n",
       "1  소비재  간이세율적용분  간이세율적용분  간이세율적용분  간이세율적용분  이사화물 2002-02-01      2332.3   \n",
       "2  소비재  간이세율적용분  간이세율적용분  간이세율적용분  간이세율적용분  이사화물 2002-03-01      2256.3   \n",
       "\n",
       "   수출금액 (천$)  수입중량 (ton)  수입금액 (천$)  \n",
       "0     2782.0      1153.4      613.0  \n",
       "1     3076.0      1301.5      491.0  \n",
       "2     4096.0      1800.8      632.0  "
      ]
     },
     "execution_count": 11,
     "metadata": {},
     "output_type": "execute_result"
    }
   ],
   "source": [
    "df.head(3)"
   ]
  },
  {
   "cell_type": "code",
   "execution_count": 12,
   "id": "0791136a",
   "metadata": {
    "tags": []
   },
   "outputs": [],
   "source": [
    "df = trade_cleaner.add_units(df)"
   ]
  },
  {
   "cell_type": "code",
   "execution_count": 13,
   "id": "90ab3bf2",
   "metadata": {},
   "outputs": [
    {
     "data": {
      "text/plain": [
       "[None, None, None, None, None]"
      ]
     },
     "execution_count": 13,
     "metadata": {},
     "output_type": "execute_result"
    }
   ],
   "source": [
    "[df.rename(columns={col: col[:-1]}, inplace=True) for col in df.columns.tolist() if '분류명' in col]"
   ]
  },
  {
   "cell_type": "code",
   "execution_count": 14,
   "id": "bf0ad7e0",
   "metadata": {},
   "outputs": [
    {
     "data": {
      "text/html": [
       "<div>\n",
       "<style scoped>\n",
       "    .dataframe tbody tr th:only-of-type {\n",
       "        vertical-align: middle;\n",
       "    }\n",
       "\n",
       "    .dataframe tbody tr th {\n",
       "        vertical-align: top;\n",
       "    }\n",
       "\n",
       "    .dataframe thead th {\n",
       "        text-align: right;\n",
       "    }\n",
       "</style>\n",
       "<table border=\"1\" class=\"dataframe\">\n",
       "  <thead>\n",
       "    <tr style=\"text-align: right;\">\n",
       "      <th></th>\n",
       "      <th>대분류</th>\n",
       "      <th>중분류</th>\n",
       "      <th>소분류</th>\n",
       "      <th>세분류</th>\n",
       "      <th>세세분류</th>\n",
       "      <th>설명</th>\n",
       "      <th>날짜</th>\n",
       "      <th>수출중량 (ton)</th>\n",
       "      <th>수출금액 (천$)</th>\n",
       "      <th>수입중량 (ton)</th>\n",
       "      <th>수입금액 (천$)</th>\n",
       "      <th>수출금액 (백만$)</th>\n",
       "      <th>수입금액 (백만$)</th>\n",
       "      <th>무역규모 (백만$)</th>\n",
       "      <th>무역수지 (백만$)</th>\n",
       "      <th>수출금액 (억$)</th>\n",
       "      <th>수입금액 (억$)</th>\n",
       "      <th>무역규모 (억$)</th>\n",
       "      <th>무역수지 (억$)</th>\n",
       "      <th>무역수지 (천$)</th>\n",
       "      <th>무역규모 (천$)</th>\n",
       "      <th>수출ton당 (천$/ton)</th>\n",
       "      <th>수입ton당 (천$/ton)</th>\n",
       "    </tr>\n",
       "  </thead>\n",
       "  <tbody>\n",
       "    <tr>\n",
       "      <th>0</th>\n",
       "      <td>소비재</td>\n",
       "      <td>간이세율적용분</td>\n",
       "      <td>간이세율적용분</td>\n",
       "      <td>간이세율적용분</td>\n",
       "      <td>간이세율적용분</td>\n",
       "      <td>이사화물</td>\n",
       "      <td>2002-01-01</td>\n",
       "      <td>2010.7</td>\n",
       "      <td>2782.0</td>\n",
       "      <td>1153.4</td>\n",
       "      <td>613.0</td>\n",
       "      <td>2.782</td>\n",
       "      <td>0.613</td>\n",
       "      <td>3.395</td>\n",
       "      <td>2.169</td>\n",
       "      <td>0.02782</td>\n",
       "      <td>0.00613</td>\n",
       "      <td>0.03395</td>\n",
       "      <td>0.02169</td>\n",
       "      <td>2169.0</td>\n",
       "      <td>3395.0</td>\n",
       "      <td>1.383598</td>\n",
       "      <td>0.531472</td>\n",
       "    </tr>\n",
       "    <tr>\n",
       "      <th>1</th>\n",
       "      <td>소비재</td>\n",
       "      <td>간이세율적용분</td>\n",
       "      <td>간이세율적용분</td>\n",
       "      <td>간이세율적용분</td>\n",
       "      <td>간이세율적용분</td>\n",
       "      <td>이사화물</td>\n",
       "      <td>2002-02-01</td>\n",
       "      <td>2332.3</td>\n",
       "      <td>3076.0</td>\n",
       "      <td>1301.5</td>\n",
       "      <td>491.0</td>\n",
       "      <td>3.076</td>\n",
       "      <td>0.491</td>\n",
       "      <td>3.567</td>\n",
       "      <td>2.585</td>\n",
       "      <td>0.03076</td>\n",
       "      <td>0.00491</td>\n",
       "      <td>0.03567</td>\n",
       "      <td>0.02585</td>\n",
       "      <td>2585.0</td>\n",
       "      <td>3567.0</td>\n",
       "      <td>1.318870</td>\n",
       "      <td>0.377257</td>\n",
       "    </tr>\n",
       "    <tr>\n",
       "      <th>2</th>\n",
       "      <td>소비재</td>\n",
       "      <td>간이세율적용분</td>\n",
       "      <td>간이세율적용분</td>\n",
       "      <td>간이세율적용분</td>\n",
       "      <td>간이세율적용분</td>\n",
       "      <td>이사화물</td>\n",
       "      <td>2002-03-01</td>\n",
       "      <td>2256.3</td>\n",
       "      <td>4096.0</td>\n",
       "      <td>1800.8</td>\n",
       "      <td>632.0</td>\n",
       "      <td>4.096</td>\n",
       "      <td>0.632</td>\n",
       "      <td>4.728</td>\n",
       "      <td>3.464</td>\n",
       "      <td>0.04096</td>\n",
       "      <td>0.00632</td>\n",
       "      <td>0.04728</td>\n",
       "      <td>0.03464</td>\n",
       "      <td>3464.0</td>\n",
       "      <td>4728.0</td>\n",
       "      <td>1.815361</td>\n",
       "      <td>0.350955</td>\n",
       "    </tr>\n",
       "  </tbody>\n",
       "</table>\n",
       "</div>"
      ],
      "text/plain": [
       "   대분류      중분류      소분류      세분류     세세분류    설명         날짜  수출중량 (ton)  \\\n",
       "0  소비재  간이세율적용분  간이세율적용분  간이세율적용분  간이세율적용분  이사화물 2002-01-01      2010.7   \n",
       "1  소비재  간이세율적용분  간이세율적용분  간이세율적용분  간이세율적용분  이사화물 2002-02-01      2332.3   \n",
       "2  소비재  간이세율적용분  간이세율적용분  간이세율적용분  간이세율적용분  이사화물 2002-03-01      2256.3   \n",
       "\n",
       "   수출금액 (천$)  수입중량 (ton)  수입금액 (천$)  수출금액 (백만$)  수입금액 (백만$)  무역규모 (백만$)  \\\n",
       "0     2782.0      1153.4      613.0       2.782       0.613       3.395   \n",
       "1     3076.0      1301.5      491.0       3.076       0.491       3.567   \n",
       "2     4096.0      1800.8      632.0       4.096       0.632       4.728   \n",
       "\n",
       "   무역수지 (백만$)  수출금액 (억$)  수입금액 (억$)  무역규모 (억$)  무역수지 (억$)  무역수지 (천$)  \\\n",
       "0       2.169    0.02782    0.00613    0.03395    0.02169     2169.0   \n",
       "1       2.585    0.03076    0.00491    0.03567    0.02585     2585.0   \n",
       "2       3.464    0.04096    0.00632    0.04728    0.03464     3464.0   \n",
       "\n",
       "   무역규모 (천$)  수출ton당 (천$/ton)  수입ton당 (천$/ton)  \n",
       "0     3395.0         1.383598         0.531472  \n",
       "1     3567.0         1.318870         0.377257  \n",
       "2     4728.0         1.815361         0.350955  "
      ]
     },
     "execution_count": 14,
     "metadata": {},
     "output_type": "execute_result"
    }
   ],
   "source": [
    "df.head(3)"
   ]
  },
  {
   "cell_type": "code",
   "execution_count": 15,
   "id": "e16d9763",
   "metadata": {},
   "outputs": [],
   "source": [
    "cols_long = ['대분류', '중분류','소분류','세분류','세세분류','설명','날짜',\n",
    "            '수입중량 (ton)','수입금액 (천$)', '수출중량 (ton)', '수출금액 (천$)',\n",
    "            '수입금액 (백만$)', '수출금액 (백만$)', '무역규모 (백만$)', '무역수지 (백만$)',\n",
    "            '수입금액 (억$)', '수출금액 (억$)', '무역규모 (억$)', '무역수지 (억$)', '무역수지 (천$)',\n",
    "            '무역규모 (천$)', '수출ton당 (천$/ton)', '수입ton당 (천$/ton)']\n",
    "\n",
    "cols_short = ['날짜','대분류', '중분류','소분류','세분류','세세분류','설명',\n",
    "              '수출중량 (ton)','수입중량 (ton)','수입금액 (천$)',  '수출금액 (천$)',\n",
    "              '무역수지 (천$)','무역규모 (천$)'] "
   ]
  },
  {
   "cell_type": "code",
   "execution_count": 16,
   "id": "b562c4da",
   "metadata": {},
   "outputs": [
    {
     "name": "stderr",
     "output_type": "stream",
     "text": [
      "C:\\Users\\bong2\\OneDrive\\Python_Codes\\00_python_scripts\\conn_db.py:30: SettingWithCopyWarning: \n",
      "A value is trying to be set on a copy of a slice from a DataFrame\n",
      "\n",
      "See the caveats in the documentation: https://pandas.pydata.org/pandas-docs/stable/user_guide/indexing.html#returning-a-view-versus-a-copy\n",
      "  df.dropna(axis=1, how='all', inplace=True)\n",
      "C:\\Users\\bong2\\OneDrive\\Python_Codes\\00_python_scripts\\conn_db.py:30: SettingWithCopyWarning: \n",
      "A value is trying to be set on a copy of a slice from a DataFrame\n",
      "\n",
      "See the caveats in the documentation: https://pandas.pydata.org/pandas-docs/stable/user_guide/indexing.html#returning-a-view-versus-a-copy\n",
      "  df.dropna(axis=1, how='all', inplace=True)\n"
     ]
    }
   ],
   "source": [
    "# 저장\n",
    "conn_db.export_(df[cols_long], '수출입_신성질별')\n",
    "for sheet in ['DB_수출입_신성질별','수출입_신성질별_대시보드']:\n",
    "    conn_db.to_(df[cols_short], sheet, 'import')"
   ]
  },
  {
   "cell_type": "code",
   "execution_count": null,
   "id": "5f938d3a",
   "metadata": {},
   "outputs": [],
   "source": []
  }
 ],
 "metadata": {
  "kernelspec": {
   "display_name": "Python 3",
   "language": "python",
   "name": "python3"
  },
  "language_info": {
   "codemirror_mode": {
    "name": "ipython",
    "version": 3
   },
   "file_extension": ".py",
   "mimetype": "text/x-python",
   "name": "python",
   "nbconvert_exporter": "python",
   "pygments_lexer": "ipython3",
   "version": "3.8.8"
  }
 },
 "nbformat": 4,
 "nbformat_minor": 5
}
