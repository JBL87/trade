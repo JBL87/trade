{
 "cells": [
  {
   "cell_type": "code",
   "execution_count": 1,
   "id": "cd58590a",
   "metadata": {},
   "outputs": [
    {
     "data": {
      "text/html": [
       "<style>.container { width:100% !important; }</style>"
      ],
      "text/plain": [
       "<IPython.core.display.HTML object>"
      ]
     },
     "metadata": {},
     "output_type": "display_data"
    }
   ],
   "source": [
    "import importlib, sys\n",
    "# script 경로 window용\n",
    "sys.path.append(r\"C:\\Users\\bong2\\OneDrive\\Python_Codes\\00_python_scripts\") \n",
    "from glob import glob\n",
    "import pandas as pd\n",
    "import conn_db\n",
    "import helper, trade_cleaner\n",
    "\n",
    "from IPython.core.display import display, HTML\n",
    "display(HTML(\"<style>.container { width:100% !important; }</style>\"))\n",
    "pd.set_option('display.max_columns', 50)\n",
    "pd.set_option('display.max_rows', 100)  "
   ]
  },
  {
   "cell_type": "code",
   "execution_count": 24,
   "id": "0b4c59e1",
   "metadata": {},
   "outputs": [
    {
     "data": {
      "text/plain": [
       "<module 'trade_cleaner' from 'C:\\\\Users\\\\bong2\\\\OneDrive\\\\Python_Codes\\\\00_python_scripts\\\\trade_cleaner.py'>"
      ]
     },
     "execution_count": 24,
     "metadata": {},
     "output_type": "execute_result"
    }
   ],
   "source": [
    "importlib.reload(trade_cleaner)"
   ]
  },
  {
   "cell_type": "code",
   "execution_count": 25,
   "id": "c95e2466",
   "metadata": {
    "tags": []
   },
   "outputs": [
    {
     "name": "stderr",
     "output_type": "stream",
     "text": [
      "C:\\Users\\bong2\\Anaconda3\\lib\\site-packages\\openpyxl\\styles\\stylesheet.py:221: UserWarning: Workbook contains no default style, apply openpyxl's default\n",
      "  warn(\"Workbook contains no default style, apply openpyxl's default\")\n"
     ]
    }
   ],
   "source": [
    "all_files = glob(conn_db.get_path('국가별_수출입_raw') + \"*.xls\")\n",
    "df = pd.concat([pd.read_excel(file, skiprows=4)\n",
    "                for file in all_files], axis=0).drop_duplicates()"
   ]
  },
  {
   "cell_type": "code",
   "execution_count": 26,
   "id": "f0459e4d",
   "metadata": {
    "tags": []
   },
   "outputs": [
    {
     "data": {
      "text/html": [
       "<div>\n",
       "<style scoped>\n",
       "    .dataframe tbody tr th:only-of-type {\n",
       "        vertical-align: middle;\n",
       "    }\n",
       "\n",
       "    .dataframe tbody tr th {\n",
       "        vertical-align: top;\n",
       "    }\n",
       "\n",
       "    .dataframe thead th {\n",
       "        text-align: right;\n",
       "    }\n",
       "</style>\n",
       "<table border=\"1\" class=\"dataframe\">\n",
       "  <thead>\n",
       "    <tr style=\"text-align: right;\">\n",
       "      <th></th>\n",
       "      <th>기간</th>\n",
       "      <th>국가명</th>\n",
       "      <th>수출건수</th>\n",
       "      <th>수출금액</th>\n",
       "      <th>수입건수</th>\n",
       "      <th>수입금액</th>\n",
       "      <th>무역수지</th>\n",
       "    </tr>\n",
       "  </thead>\n",
       "  <tbody>\n",
       "    <tr>\n",
       "      <th>0</th>\n",
       "      <td>총계</td>\n",
       "      <td>NaN</td>\n",
       "      <td>45,412,781</td>\n",
       "      <td>2,699,752,863</td>\n",
       "      <td>46,980,544</td>\n",
       "      <td>2,542,820,223</td>\n",
       "      <td>156,932,639</td>\n",
       "    </tr>\n",
       "    <tr>\n",
       "      <th>1</th>\n",
       "      <td>2000.01</td>\n",
       "      <td>미국</td>\n",
       "      <td>45,538</td>\n",
       "      <td>2,609,788</td>\n",
       "      <td>52,999</td>\n",
       "      <td>2,217,025</td>\n",
       "      <td>392,763</td>\n",
       "    </tr>\n",
       "    <tr>\n",
       "      <th>2</th>\n",
       "      <td>2000.01</td>\n",
       "      <td>일본</td>\n",
       "      <td>35,855</td>\n",
       "      <td>1,551,722</td>\n",
       "      <td>63,151</td>\n",
       "      <td>2,357,231</td>\n",
       "      <td>-805,509</td>\n",
       "    </tr>\n",
       "  </tbody>\n",
       "</table>\n",
       "</div>"
      ],
      "text/plain": [
       "        기간  국가명                  수출건수                  수출금액  \\\n",
       "0       총계  NaN            45,412,781         2,699,752,863   \n",
       "1  2000.01   미국                45,538             2,609,788   \n",
       "2  2000.01   일본                35,855             1,551,722   \n",
       "\n",
       "                   수입건수                  수입금액                  무역수지  \n",
       "0            46,980,544         2,542,820,223           156,932,639  \n",
       "1                52,999             2,217,025               392,763  \n",
       "2                63,151             2,357,231              -805,509  "
      ]
     },
     "execution_count": 26,
     "metadata": {},
     "output_type": "execute_result"
    }
   ],
   "source": [
    "df.head(3)"
   ]
  },
  {
   "cell_type": "code",
   "execution_count": 27,
   "id": "f87ae9dd",
   "metadata": {
    "tags": []
   },
   "outputs": [],
   "source": [
    "filt = df['기간'] != '총계'\n",
    "df = df.loc[filt]\n",
    "names = {'기간': '날짜',\n",
    "        '국가명': '국가',\n",
    "        '수출건수': '수출건수 (건)',\n",
    "        '수입건수': '수입건수 (건)',\n",
    "        '수출금액': '수출금액 (천$)',\n",
    "        '수입금액': '수입금액 (천$)',\n",
    "        '무역수지': '무역수지 (천$)'}\n",
    "df.rename(columns=names, inplace=True)\n",
    "df['날짜'] = pd.to_datetime(df['날짜'])"
   ]
  },
  {
   "cell_type": "code",
   "execution_count": 28,
   "id": "4ab22c2f",
   "metadata": {},
   "outputs": [
    {
     "data": {
      "text/html": [
       "<div>\n",
       "<style scoped>\n",
       "    .dataframe tbody tr th:only-of-type {\n",
       "        vertical-align: middle;\n",
       "    }\n",
       "\n",
       "    .dataframe tbody tr th {\n",
       "        vertical-align: top;\n",
       "    }\n",
       "\n",
       "    .dataframe thead th {\n",
       "        text-align: right;\n",
       "    }\n",
       "</style>\n",
       "<table border=\"1\" class=\"dataframe\">\n",
       "  <thead>\n",
       "    <tr style=\"text-align: right;\">\n",
       "      <th></th>\n",
       "      <th>날짜</th>\n",
       "      <th>국가</th>\n",
       "      <th>수출건수 (건)</th>\n",
       "      <th>수출금액 (천$)</th>\n",
       "      <th>수입건수 (건)</th>\n",
       "      <th>수입금액 (천$)</th>\n",
       "      <th>무역수지 (천$)</th>\n",
       "    </tr>\n",
       "  </thead>\n",
       "  <tbody>\n",
       "    <tr>\n",
       "      <th>1</th>\n",
       "      <td>2000-01-01</td>\n",
       "      <td>미국</td>\n",
       "      <td>45,538</td>\n",
       "      <td>2,609,788</td>\n",
       "      <td>52,999</td>\n",
       "      <td>2,217,025</td>\n",
       "      <td>392,763</td>\n",
       "    </tr>\n",
       "    <tr>\n",
       "      <th>2</th>\n",
       "      <td>2000-01-01</td>\n",
       "      <td>일본</td>\n",
       "      <td>35,855</td>\n",
       "      <td>1,551,722</td>\n",
       "      <td>63,151</td>\n",
       "      <td>2,357,231</td>\n",
       "      <td>-805,509</td>\n",
       "    </tr>\n",
       "    <tr>\n",
       "      <th>3</th>\n",
       "      <td>2000-01-01</td>\n",
       "      <td>중국</td>\n",
       "      <td>27,336</td>\n",
       "      <td>1,235,215</td>\n",
       "      <td>31,458</td>\n",
       "      <td>1,008,166</td>\n",
       "      <td>227,050</td>\n",
       "    </tr>\n",
       "  </tbody>\n",
       "</table>\n",
       "</div>"
      ],
      "text/plain": [
       "          날짜  국가              수출건수 (건)             수출금액 (천$)  \\\n",
       "1 2000-01-01  미국                45,538             2,609,788   \n",
       "2 2000-01-01  일본                35,855             1,551,722   \n",
       "3 2000-01-01  중국                27,336             1,235,215   \n",
       "\n",
       "               수입건수 (건)             수입금액 (천$)             무역수지 (천$)  \n",
       "1                52,999             2,217,025               392,763  \n",
       "2                63,151             2,357,231              -805,509  \n",
       "3                31,458             1,008,166               227,050  "
      ]
     },
     "execution_count": 28,
     "metadata": {},
     "output_type": "execute_result"
    }
   ],
   "source": [
    "df.head(3)"
   ]
  },
  {
   "cell_type": "code",
   "execution_count": 29,
   "id": "a1c8f34e",
   "metadata": {},
   "outputs": [],
   "source": [
    "matcher = ['건수', '금액', '무역']\n",
    "all_cols = df.columns.tolist()\n",
    "value_cols = [col for col in all_cols if any(\n",
    "    prcnt in col for prcnt in matcher)]\n",
    "\n",
    "for col in value_cols:\n",
    "    df[col] = pd.to_numeric(df[col].str.replace(',', ''))"
   ]
  },
  {
   "cell_type": "code",
   "execution_count": 30,
   "id": "ceb9d586",
   "metadata": {
    "tags": []
   },
   "outputs": [
    {
     "data": {
      "text/html": [
       "<div>\n",
       "<style scoped>\n",
       "    .dataframe tbody tr th:only-of-type {\n",
       "        vertical-align: middle;\n",
       "    }\n",
       "\n",
       "    .dataframe tbody tr th {\n",
       "        vertical-align: top;\n",
       "    }\n",
       "\n",
       "    .dataframe thead th {\n",
       "        text-align: right;\n",
       "    }\n",
       "</style>\n",
       "<table border=\"1\" class=\"dataframe\">\n",
       "  <thead>\n",
       "    <tr style=\"text-align: right;\">\n",
       "      <th></th>\n",
       "      <th>날짜</th>\n",
       "      <th>국가</th>\n",
       "      <th>수출건수 (건)</th>\n",
       "      <th>수출금액 (천$)</th>\n",
       "      <th>수입건수 (건)</th>\n",
       "      <th>수입금액 (천$)</th>\n",
       "      <th>무역수지 (천$)</th>\n",
       "    </tr>\n",
       "  </thead>\n",
       "  <tbody>\n",
       "    <tr>\n",
       "      <th>1</th>\n",
       "      <td>2000-01-01</td>\n",
       "      <td>미국</td>\n",
       "      <td>45538</td>\n",
       "      <td>2609788</td>\n",
       "      <td>52999</td>\n",
       "      <td>2217025</td>\n",
       "      <td>392763</td>\n",
       "    </tr>\n",
       "    <tr>\n",
       "      <th>2</th>\n",
       "      <td>2000-01-01</td>\n",
       "      <td>일본</td>\n",
       "      <td>35855</td>\n",
       "      <td>1551722</td>\n",
       "      <td>63151</td>\n",
       "      <td>2357231</td>\n",
       "      <td>-805509</td>\n",
       "    </tr>\n",
       "    <tr>\n",
       "      <th>3</th>\n",
       "      <td>2000-01-01</td>\n",
       "      <td>중국</td>\n",
       "      <td>27336</td>\n",
       "      <td>1235215</td>\n",
       "      <td>31458</td>\n",
       "      <td>1008166</td>\n",
       "      <td>227050</td>\n",
       "    </tr>\n",
       "  </tbody>\n",
       "</table>\n",
       "</div>"
      ],
      "text/plain": [
       "          날짜  국가  수출건수 (건)  수출금액 (천$)  수입건수 (건)  수입금액 (천$)  무역수지 (천$)\n",
       "1 2000-01-01  미국     45538    2609788     52999    2217025     392763\n",
       "2 2000-01-01  일본     35855    1551722     63151    2357231    -805509\n",
       "3 2000-01-01  중국     27336    1235215     31458    1008166     227050"
      ]
     },
     "execution_count": 30,
     "metadata": {},
     "output_type": "execute_result"
    }
   ],
   "source": [
    "df.head(3)"
   ]
  },
  {
   "cell_type": "code",
   "execution_count": 31,
   "id": "cfaba635",
   "metadata": {},
   "outputs": [
    {
     "data": {
      "text/html": [
       "<div>\n",
       "<style scoped>\n",
       "    .dataframe tbody tr th:only-of-type {\n",
       "        vertical-align: middle;\n",
       "    }\n",
       "\n",
       "    .dataframe tbody tr th {\n",
       "        vertical-align: top;\n",
       "    }\n",
       "\n",
       "    .dataframe thead th {\n",
       "        text-align: right;\n",
       "    }\n",
       "</style>\n",
       "<table border=\"1\" class=\"dataframe\">\n",
       "  <thead>\n",
       "    <tr style=\"text-align: right;\">\n",
       "      <th></th>\n",
       "      <th>날짜</th>\n",
       "      <th>국가</th>\n",
       "      <th>수출건수 (건)</th>\n",
       "      <th>수출금액 (천$)</th>\n",
       "      <th>수입건수 (건)</th>\n",
       "      <th>수입금액 (천$)</th>\n",
       "      <th>무역수지 (천$)</th>\n",
       "      <th>수출금액 (백만$)</th>\n",
       "      <th>수입금액 (백만$)</th>\n",
       "      <th>무역규모 (백만$)</th>\n",
       "      <th>무역수지 (백만$)</th>\n",
       "      <th>수출금액 (억$)</th>\n",
       "      <th>수입금액 (억$)</th>\n",
       "      <th>무역규모 (억$)</th>\n",
       "      <th>무역수지 (억$)</th>\n",
       "      <th>무역규모 (천$)</th>\n",
       "      <th>수출 건당 (천$/건)</th>\n",
       "      <th>수입 건당 (천$/건)</th>\n",
       "    </tr>\n",
       "  </thead>\n",
       "  <tbody>\n",
       "    <tr>\n",
       "      <th>1</th>\n",
       "      <td>2000-01-01</td>\n",
       "      <td>미국</td>\n",
       "      <td>45538</td>\n",
       "      <td>2609788</td>\n",
       "      <td>52999</td>\n",
       "      <td>2217025</td>\n",
       "      <td>392763</td>\n",
       "      <td>2609.788</td>\n",
       "      <td>2217.025</td>\n",
       "      <td>4826.813</td>\n",
       "      <td>392.763</td>\n",
       "      <td>26.09788</td>\n",
       "      <td>22.17025</td>\n",
       "      <td>48.26813</td>\n",
       "      <td>3.92763</td>\n",
       "      <td>4826813</td>\n",
       "      <td>57.310115</td>\n",
       "      <td>41.831450</td>\n",
       "    </tr>\n",
       "    <tr>\n",
       "      <th>2</th>\n",
       "      <td>2000-01-01</td>\n",
       "      <td>일본</td>\n",
       "      <td>35855</td>\n",
       "      <td>1551722</td>\n",
       "      <td>63151</td>\n",
       "      <td>2357231</td>\n",
       "      <td>-805509</td>\n",
       "      <td>1551.722</td>\n",
       "      <td>2357.231</td>\n",
       "      <td>3908.953</td>\n",
       "      <td>-805.509</td>\n",
       "      <td>15.51722</td>\n",
       "      <td>23.57231</td>\n",
       "      <td>39.08953</td>\n",
       "      <td>-8.05509</td>\n",
       "      <td>3908953</td>\n",
       "      <td>43.277702</td>\n",
       "      <td>37.326899</td>\n",
       "    </tr>\n",
       "    <tr>\n",
       "      <th>3</th>\n",
       "      <td>2000-01-01</td>\n",
       "      <td>중국</td>\n",
       "      <td>27336</td>\n",
       "      <td>1235215</td>\n",
       "      <td>31458</td>\n",
       "      <td>1008166</td>\n",
       "      <td>227049</td>\n",
       "      <td>1235.215</td>\n",
       "      <td>1008.166</td>\n",
       "      <td>2243.381</td>\n",
       "      <td>227.049</td>\n",
       "      <td>12.35215</td>\n",
       "      <td>10.08166</td>\n",
       "      <td>22.43381</td>\n",
       "      <td>2.27049</td>\n",
       "      <td>2243381</td>\n",
       "      <td>45.186384</td>\n",
       "      <td>32.048001</td>\n",
       "    </tr>\n",
       "  </tbody>\n",
       "</table>\n",
       "</div>"
      ],
      "text/plain": [
       "          날짜  국가  수출건수 (건)  수출금액 (천$)  수입건수 (건)  수입금액 (천$)  무역수지 (천$)  \\\n",
       "1 2000-01-01  미국     45538    2609788     52999    2217025     392763   \n",
       "2 2000-01-01  일본     35855    1551722     63151    2357231    -805509   \n",
       "3 2000-01-01  중국     27336    1235215     31458    1008166     227049   \n",
       "\n",
       "   수출금액 (백만$)  수입금액 (백만$)  무역규모 (백만$)  무역수지 (백만$)  수출금액 (억$)  수입금액 (억$)  \\\n",
       "1    2609.788    2217.025    4826.813     392.763   26.09788   22.17025   \n",
       "2    1551.722    2357.231    3908.953    -805.509   15.51722   23.57231   \n",
       "3    1235.215    1008.166    2243.381     227.049   12.35215   10.08166   \n",
       "\n",
       "   무역규모 (억$)  무역수지 (억$)  무역규모 (천$)  수출 건당 (천$/건)  수입 건당 (천$/건)  \n",
       "1   48.26813    3.92763    4826813     57.310115     41.831450  \n",
       "2   39.08953   -8.05509    3908953     43.277702     37.326899  \n",
       "3   22.43381    2.27049    2243381     45.186384     32.048001  "
      ]
     },
     "execution_count": 31,
     "metadata": {},
     "output_type": "execute_result"
    }
   ],
   "source": [
    "df = trade_cleaner.add_units(df)\n",
    "df.head(3)"
   ]
  },
  {
   "cell_type": "code",
   "execution_count": 37,
   "id": "456826ba",
   "metadata": {},
   "outputs": [],
   "source": [
    "cols_long = ['날짜', '국가', '수출건수 (건)', '수출금액 (천$)', '수입건수 (건)', '수입금액 (천$)', '무역수지 (천$)',\n",
    "             '무역규모 (천$)', '수출 건당 (천$/건)', '수입 건당 (천$/건)',\n",
    "             '수출금액 (백만$)', '수입금액 (백만$)', '무역규모 (백만$)', '무역수지 (백만$)',\n",
    "             '수출금액 (억$)', '수입금액 (억$)', '무역규모 (억$)', '무역수지 (억$)', ]\n",
    "\n",
    "cols_short = ['날짜', '국가', '수출건수 (건)', '수출금액 (천$)', '수입건수 (건)',\n",
    "              '수입금액 (천$)', '무역수지 (천$)','무역규모 (천$)', \n",
    "              '수출 건당 (천$/건)', '수입 건당 (천$/건)']"
   ]
  },
  {
   "cell_type": "code",
   "execution_count": 38,
   "id": "3a731efd",
   "metadata": {
    "tags": []
   },
   "outputs": [
    {
     "name": "stderr",
     "output_type": "stream",
     "text": [
      "C:\\Users\\bong2\\OneDrive\\Python_Codes\\00_python_scripts\\conn_db.py:30: SettingWithCopyWarning: \n",
      "A value is trying to be set on a copy of a slice from a DataFrame\n",
      "\n",
      "See the caveats in the documentation: https://pandas.pydata.org/pandas-docs/stable/user_guide/indexing.html#returning-a-view-versus-a-copy\n",
      "  df.dropna(axis=1, how='all', inplace=True)\n",
      "C:\\Users\\bong2\\Anaconda3\\lib\\site-packages\\pygsheets\\worksheet.py:1366: SettingWithCopyWarning: \n",
      "A value is trying to be set on a copy of a slice from a DataFrame.\n",
      "Try using .loc[row_indexer,col_indexer] = value instead\n",
      "\n",
      "See the caveats in the documentation: https://pandas.pydata.org/pandas-docs/stable/user_guide/indexing.html#returning-a-view-versus-a-copy\n",
      "  df[col] = df[col].astype('unicode').replace('<NA>', nan)\n"
     ]
    }
   ],
   "source": [
    "# 저장\n",
    "conn_db.export_(df[cols_long], '수출입_국가별')\n",
    "conn_db.to_(df[cols_short], 'DB_수출입_국가별', 'import')"
   ]
  },
  {
   "cell_type": "code",
   "execution_count": null,
   "id": "4f4c02c9",
   "metadata": {},
   "outputs": [],
   "source": []
  }
 ],
 "metadata": {
  "kernelspec": {
   "display_name": "Python 3",
   "language": "python",
   "name": "python3"
  },
  "language_info": {
   "codemirror_mode": {
    "name": "ipython",
    "version": 3
   },
   "file_extension": ".py",
   "mimetype": "text/x-python",
   "name": "python",
   "nbconvert_exporter": "python",
   "pygments_lexer": "ipython3",
   "version": "3.8.8"
  }
 },
 "nbformat": 4,
 "nbformat_minor": 5
}
