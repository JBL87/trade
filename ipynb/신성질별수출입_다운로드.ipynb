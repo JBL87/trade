{
 "cells": [
  {
   "cell_type": "code",
   "execution_count": 15,
   "id": "1a21847d",
   "metadata": {},
   "outputs": [
    {
     "data": {
      "text/html": [
       "<style>.container { width:100% !important; }</style>"
      ],
      "text/plain": [
       "<IPython.core.display.HTML object>"
      ]
     },
     "metadata": {},
     "output_type": "display_data"
    }
   ],
   "source": [
    "import sys, importlib\n",
    "# script 경로 window용\n",
    "sys.path.append(r\"C:\\Users\\bong2\\OneDrive\\Python_Codes\\00_python_scripts\") \n",
    "    \n",
    "from glob import glob\n",
    "import pandas as pd\n",
    "import time\n",
    "import shutil\n",
    "import conn_db, helper\n",
    "from selenium import webdriver\n",
    "from selenium.webdriver.support.select import Select\n",
    "\n",
    "from IPython.core.display import display, HTML\n",
    "display(HTML(\"<style>.container { width:100% !important; }</style>\"))\n",
    "pd.set_option('display.max_columns', 50)\n",
    "pd.set_option('display.max_rows', 100)"
   ]
  },
  {
   "cell_type": "code",
   "execution_count": 11,
   "id": "1a444d18",
   "metadata": {},
   "outputs": [],
   "source": [
    "webdriver_path = r\"C:\\Users\\bong2\\OneDrive\\Python_Codes\\98_drivers\\chromedriver.exe\"\n",
    "driver = webdriver.Chrome(executable_path = webdriver_path) "
   ]
  },
  {
   "cell_type": "code",
   "execution_count": 12,
   "id": "e203b0dd",
   "metadata": {},
   "outputs": [],
   "source": [
    "# 1. 관세청 홈페이지 들어가기\n",
    "# driver = webdriver.Chrome()\n",
    "\n",
    "driver.get('https://unipass.customs.go.kr/ets/index.do')\n",
    "time.sleep(10)\n",
    "\n",
    "# 2. 실제 통계 목록 있는 화면으로 들어가기\n",
    "# 신성질별 수출입실적 메뉴 클릭.\n",
    "time.sleep(10)\n",
    "selector = '#maincont > div > article > ul > li:nth-child(1) > div > ul.leftArea.listype01 > li:nth-child(5) > a'\n",
    "driver.find_element_by_css_selector(selector).click()\n",
    "time.sleep(10)"
   ]
  },
  {
   "cell_type": "code",
   "execution_count": 13,
   "id": "effe9262",
   "metadata": {},
   "outputs": [],
   "source": [
    "start_date = '2021.01'\n",
    "end_date = 0"
   ]
  },
  {
   "cell_type": "code",
   "execution_count": 17,
   "id": "1e491406",
   "metadata": {},
   "outputs": [],
   "source": [
    "# 조회기간 '월'로 변경\n",
    "selector = '#TRS0104011Q_priodKind > option:nth-child(2)'\n",
    "driver.find_element_by_css_selector(selector).click()\n",
    "\n",
    "# 시작날짜 설정\n",
    "driver.find_element_by_css_selector('#TRS0104011Q_priodFr').click()  # 시작날짜 선택 드룹다운 열기\n",
    "Select(driver.find_element_by_css_selector('#TRS0104011Q_priodFr')).select_by_visible_text(start_date)  # 시작날짜 설정"
   ]
  },
  {
   "cell_type": "code",
   "execution_count": 28,
   "id": "a547e9d4",
   "metadata": {},
   "outputs": [],
   "source": [
    "# 종료날짜 설정. 조회기간 'to' 클릭해서 dropdown 열기\n",
    "driver.find_element_by_css_selector('#TRS0104011Q_priodTo').click()\n",
    "if end_date == 0:\n",
    "    # 항상 처음 있는 월 선택\n",
    "    Select(driver.find_element_by_css_selector('#TRS0104011Q_priodTo')).select_by_index(0)\n",
    "else: # 종료날짜 설정\n",
    "    Select(driver.find_element_by_css_selector('TRS0104011Q_priodTo')).select_by_visible_text(end_date)\n",
    "\n",
    "driver.find_element_by_css_selector('#TRS0104011Q_detailTmpr').click()  # 세부성질 클릭"
   ]
  },
  {
   "cell_type": "code",
   "execution_count": 40,
   "id": "3ce1183b",
   "metadata": {},
   "outputs": [],
   "source": [
    "# 수출, 수입 선택후 다운로드\n",
    "trade_types = {'expTpcd':'수출',\n",
    "               'impTpcd':'수입'}\n",
    "path = conn_db.get_path('신성질별_수출입_raw')\n",
    "\n",
    "for trade_type in trade_types.keys(): \n",
    "    # 수출, 수입 선택\n",
    "    driver.find_element_by_css_selector(f'#TRS0104011Q_{trade_type}').click()\n",
    "    \n",
    "    # 조회클릭\n",
    "    selector = '#TRS0104011Q_fmSearch > div > footer > button'\n",
    "    driver.find_element_by_css_selector(selector).submit()\n",
    "    time.sleep(30)\n",
    "    \n",
    "    start = len(glob(folder+'*.xls'))\n",
    "    try: # 다운로드 버튼 클릭\n",
    "        driver.find_element_by_css_selector('#TRS0104011Q_downExcel_double').send_keys('\\n')\n",
    "    except: # 다운로드 버튼 재클릭\n",
    "        time.sleep(5)\n",
    "        driver.find_element_by_css_selector('#TRS0104011Q_downExcel_double').send_keys('\\n')        \n",
    "        \n",
    "    while len(glob(folder+'*.xls'))==start:\n",
    "        time.sleep(3)\n",
    "        \n",
    "        \n",
    "    old_file = glob(folder+'*.xls')[0]\n",
    "    new_file = path + f'신성질별 {trade_types[trade_type]}실적_{start_date[:4]}.xls'\n",
    "\n",
    "    shutil.move(src=old_file, dst=new_file)"
   ]
  },
  {
   "cell_type": "code",
   "execution_count": 38,
   "id": "07e4fdcf",
   "metadata": {},
   "outputs": [],
   "source": []
  }
 ],
 "metadata": {
  "kernelspec": {
   "display_name": "Python 3",
   "language": "python",
   "name": "python3"
  },
  "language_info": {
   "codemirror_mode": {
    "name": "ipython",
    "version": 3
   },
   "file_extension": ".py",
   "mimetype": "text/x-python",
   "name": "python",
   "nbconvert_exporter": "python",
   "pygments_lexer": "ipython3",
   "version": "3.8.8"
  }
 },
 "nbformat": 4,
 "nbformat_minor": 5
}
